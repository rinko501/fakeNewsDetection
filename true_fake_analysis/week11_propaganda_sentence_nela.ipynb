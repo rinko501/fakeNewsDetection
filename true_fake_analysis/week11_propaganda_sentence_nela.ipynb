{
 "cells": [
  {
   "cell_type": "code",
   "execution_count": 1,
   "metadata": {},
   "outputs": [
    {
     "name": "stderr",
     "output_type": "stream",
     "text": [
      "/Users/linliu/anaconda3/lib/python3.6/site-packages/sklearn/ensemble/weight_boosting.py:29: DeprecationWarning: numpy.core.umath_tests is an internal NumPy module and should not be imported. It will be removed in a future NumPy release.\n",
      "  from numpy.core.umath_tests import inner1d\n"
     ]
    }
   ],
   "source": [
    "#!/usr/bin/env python3\n",
    "# -*- coding:utf-8 -*-\n",
    "import os\n",
    "import json\n",
    "import re\n",
    "import csv\n",
    "\n",
    "from scipy.stats import chi2_contingency\n",
    "import numpy as np\n",
    "import pandas as pd\n",
    "from sklearn.linear_model import LogisticRegression\n",
    "from sklearn.ensemble import RandomForestClassifier\n",
    "from sklearn.ensemble import GradientBoostingClassifier\n",
    "from sklearn.model_selection import cross_val_score\n",
    "from sklearn.metrics import confusion_matrix,f1_score,roc_auc_score,roc_curve\n",
    "import matplotlib.pyplot as plt\n",
    "import math\n",
    "np.random.seed(0)"
   ]
  },
  {
   "cell_type": "code",
   "execution_count": 2,
   "metadata": {},
   "outputs": [
    {
     "name": "stdout",
     "output_type": "stream",
     "text": [
      "14153 3934 3934\n"
     ]
    }
   ],
   "source": [
    "# generate NELA feature for task1, see NELA project\n",
    "# load task1 seperated data\n",
    "def load_NELA_feature():\n",
    "        feature_path = \"../other_dict/tasks-2-3/train_harvest_tool_out/processed_data.csv\"\n",
    "        fileName_feature_dict = dict()\n",
    "        with open(feature_path,'r') as f:\n",
    "            for line in f.readlines():\n",
    "                line_split = line.strip().split(\",\")\n",
    "                fileName_feature_dict[line_split[0]] = [float(i) for i in line_split[3:]]\n",
    "                #print('fileName_feature_dict:',fileName_feature_dict[line_split[0]])\n",
    "        return fileName_feature_dict \n",
    "task1_NELA_dict = load_NELA_feature()\n",
    "\n",
    "feature_label_list = []\n",
    "for fileName,feature in task1_NELA_dict.items():\n",
    "    feature_label = feature.append(fileName.split(\"_\")[1]==\"propaganda\")\n",
    "    feature_label_list.append(feature)\n",
    "np.random.shuffle(feature_label_list)\n",
    "# partition to positive/negative\n",
    "global_sentence_label_positive = [pair for pair in feature_label_list if pair[-1]==True]\n",
    "global_sentence_label_negative = [pair for pair in feature_label_list if pair[-1]==False][:3934]\n",
    "print(len(feature_label_list),len(global_sentence_label_positive),len(global_sentence_label_negative))\n",
    "\n",
    "train_dataset = global_sentence_label_negative[:int(len(global_sentence_label_negative)*0.9)]\n",
    "train_dataset.extend(global_sentence_label_positive[:int(len(global_sentence_label_positive)*0.9)])\n",
    "#print('global_sentence_label_negative:',global_sentence_label_negative[:2])\n",
    "#print('global_sentence_label_positive:',global_sentence_label_positive[:2])\n",
    "validation_dataset = global_sentence_label_negative[int(len(global_sentence_label_negative)*0.9):]\n",
    "validation_dataset.extend(global_sentence_label_positive[int(len(global_sentence_label_negative)*0.9):])\n",
    "\n",
    "#test_dataset = global_sentence_label_negative[int(len(global_sentence_label_negative)*0.9):]\n",
    "#test_dataset.extend(global_sentence_label_positive[int(len(global_sentence_label_positive)*0.9):])\n",
    "\n",
    "\n",
    "\n",
    "def convert_to_array(dataset):\n",
    "    feature = np.array([line[:-1] for line in dataset])\n",
    "    label = np.array([line[-1] for line in dataset])\n",
    "    return feature,label\n",
    "train_feature_matrix, train_label = convert_to_array(train_dataset)\n",
    "validation_feature_matrix, validation_label = convert_to_array(validation_dataset)\n",
    "#test_feature_matrix, test_label = convert_to_array(train_dataset)"
   ]
  },
  {
   "cell_type": "code",
   "execution_count": 3,
   "metadata": {},
   "outputs": [
    {
     "name": "stdout",
     "output_type": "stream",
     "text": [
      "4014 1235 2779\n"
     ]
    }
   ],
   "source": [
    "\n",
    "# generate NELA feature for task1, see NELA project\n",
    "# load task1 seperated data\n",
    "def load_NELA_test_feature():\n",
    "        feature_test_path = \"../other_dict/new_propaganda_test/train_harvest_tool_out/processed_data.csv\"\n",
    "        fileName_feature_test_dict = dict()\n",
    "        with open(feature_test_path,'r') as f_test:\n",
    "            for line in f_test.readlines():\n",
    "                line_test_split = line.strip().split(\",\")\n",
    "                fileName_feature_test_dict[line_test_split[0]] = [float(i) for i in line_test_split[3:]]\n",
    "        return fileName_feature_test_dict \n",
    "task1_NELA_test_dict = load_NELA_test_feature()\n",
    "feature_test_label_list = []\n",
    "for fileName_test,feature_test in task1_NELA_test_dict.items():\n",
    "    #print('fileName.split(\"_\")[1]:',fileName.split(\"_\")[2])\n",
    "    feature_test_label = feature_test.append(fileName_test.split(\"_\")[2]==\"propaganda\")\n",
    "    feature_test_label_list.append(feature_test)\n",
    "#print('feature_test_label_list:',feature_test_label_list[:5])\n",
    "\n",
    "# partition to positive/negative\n",
    "global_sentence_test_label_positive = [pair for pair in feature_test_label_list if pair[-1]==True]\n",
    "global_sentence_test_label_negative = [pair for pair in feature_test_label_list if pair[-1]==False]\n",
    "print(len(feature_test_label_list),len(global_sentence_test_label_positive),len(global_sentence_test_label_negative))\n",
    "#print('global_sentence_test_label_positive:',global_sentence_test_label_positive[:2])\n",
    "test_dataset = global_sentence_test_label_negative\n",
    "test_dataset.extend(global_sentence_test_label_positive)\n",
    "\n",
    "def convert_to_array(dataset):\n",
    "    feature = np.array([line[:-1] for line in dataset])\n",
    "    label = np.array([line[-1] for line in dataset])\n",
    "    return feature,label\n",
    "\n",
    "test_feature_matrix, test_label = convert_to_array(test_dataset)\n"
   ]
  },
  {
   "cell_type": "code",
   "execution_count": 4,
   "metadata": {},
   "outputs": [
    {
     "name": "stdout",
     "output_type": "stream",
     "text": [
      "train================================\n",
      "The train accuracy score of rf is : 0.686582\n",
      "confusion matrix is  [[2378 1057]\n",
      " [1162 2483]]\n",
      " positive f1: 0.6911621433542101\n",
      " negative f1: 0.6818637992831542\n",
      "The AUC of GBDT: 0.74818\n",
      "test================================\n",
      "The test accuracy score of rf is : 0.667663\n",
      " positive f1: 0.5526492287055667\n",
      " negative f1: 0.735632183908046\n",
      "f1: 0.5526492287055667\n",
      "precision: 0.4716657126502576\n",
      "recall: 0.6672064777327935\n",
      "The AUC of GBDT: 0.72363\n"
     ]
    }
   ],
   "source": [
    "#gbdt, train\n",
    "gbdt = GradientBoostingClassifier(max_depth=4,\n",
    "                                  random_state=0,\n",
    "                                  min_samples_split=5,\n",
    "                                  learning_rate=0.01,\n",
    "                                  n_estimators=30,\n",
    "                                  subsample=0.8)\n",
    "sample_weight = np.zeros(train_label.shape,np.float)\n",
    "sample_weight[train_label==1] = 1.0 / np.sum(train_label==1)\n",
    "sample_weight[train_label==0] = 1.0 / np.sum(train_label==0)\n",
    "rf = gbdt.fit(train_feature_matrix, train_label, sample_weight)\n",
    "\n",
    "print(\"train================================\")\n",
    "\n",
    "val_score_rbf = gbdt.score(train_feature_matrix, train_label)#val_score_rbf = gbdt.score(x, y)\n",
    "print(\"The train accuracy score of rf is : %f\" % val_score_rbf)\n",
    "predict_label = gbdt.predict(train_feature_matrix)\n",
    "prob_y = gbdt.predict_proba(train_feature_matrix)[:,1]\n",
    "cm = confusion_matrix(predict_label,train_label)\n",
    "print(\"confusion matrix is \", cm)\n",
    "#plot_confusion_matrix(cm, \"GBDT Confusion Matrix\")\n",
    "print(\" positive f1:\",f1_score(train_label,predict_label,pos_label=True))\n",
    "print(\" negative f1:\",f1_score(train_label,predict_label,pos_label=False))\n",
    "#print('test_feature_matrix:',test_feature_matrix)\n",
    "gbdt_auc = roc_auc_score(train_label, prob_y)\n",
    "print('The AUC of GBDT: %.5f' % gbdt_auc)\n",
    "\n",
    "\n",
    "print(\"test================================\")\n",
    "test_score_rbf = gbdt.score(test_feature_matrix, test_label)#test_score_rbf = gbdt.score(test_x, test_y)\n",
    "print(\"The test accuracy score of rf is : %f\" % test_score_rbf)\n",
    "predict_label = gbdt.predict(test_feature_matrix)\n",
    "prob_y = gbdt.predict_proba(test_feature_matrix)[:,1]\n",
    "#cm = confusion_matrix(predict_label,test_label)\n",
    "#print(\"confusion matrix is \", cm)\n",
    "#plot_confusion_matrix(cm, \"GBDT Confusion Matrix\")\n",
    "\n",
    "from sklearn.metrics import precision_score, recall_score, f1_score\n",
    "\n",
    "\n",
    "print(\" positive f1:\",f1_score(test_label,predict_label,pos_label=True))\n",
    "print(\" negative f1:\",f1_score(test_label,predict_label,pos_label=False))\n",
    "f1 = f1_score(test_label, predict_label, average='binary')\n",
    "print(\"f1:\", f1 )\n",
    "p = precision_score(test_label, predict_label, average='binary')\n",
    "print(\"precision:\", p)\n",
    "r = recall_score(test_label, predict_label,average='binary')\n",
    "print(\"recall:\", r)\n",
    "#print('test_feature_matrix:',test_feature_matrix)\n",
    "gbdt_auc = roc_auc_score(test_label, prob_y)\n",
    "print('The AUC of GBDT: %.5f' % gbdt_auc)\n",
    "\n"
   ]
  },
  {
   "cell_type": "code",
   "execution_count": null,
   "metadata": {},
   "outputs": [],
   "source": []
  }
 ],
 "metadata": {
  "kernelspec": {
   "display_name": "Python 3",
   "language": "python",
   "name": "python3"
  },
  "language_info": {
   "codemirror_mode": {
    "name": "ipython",
    "version": 3
   },
   "file_extension": ".py",
   "mimetype": "text/x-python",
   "name": "python",
   "nbconvert_exporter": "python",
   "pygments_lexer": "ipython3",
   "version": "3.6.8"
  }
 },
 "nbformat": 4,
 "nbformat_minor": 2
}
