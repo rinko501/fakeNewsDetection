{
 "cells": [
  {
   "cell_type": "code",
   "execution_count": 1,
   "metadata": {},
   "outputs": [
    {
     "name": "stderr",
     "output_type": "stream",
     "text": [
      "[nltk_data] Downloading package stopwords to\n",
      "[nltk_data]     /Users/linliu/nltk_data...\n",
      "[nltk_data]   Package stopwords is already up-to-date!\n"
     ]
    },
    {
     "data": {
      "text/plain": [
       "True"
      ]
     },
     "execution_count": 1,
     "metadata": {},
     "output_type": "execute_result"
    }
   ],
   "source": [
    "import nltk\n",
    "nltk.download('stopwords')"
   ]
  },
  {
   "cell_type": "code",
   "execution_count": 2,
   "metadata": {
    "scrolled": true
   },
   "outputs": [
    {
     "name": "stdout",
     "output_type": "stream",
     "text": [
      "['i', 'me', 'my', 'myself', 'we', 'our', 'ours', 'ourselves', 'you', \"you're\", \"you've\", \"you'll\", \"you'd\", 'your', 'yours', 'yourself', 'yourselves', 'he', 'him', 'his', 'himself', 'she', \"she's\", 'her', 'hers', 'herself', 'it', \"it's\", 'its', 'itself', 'they', 'them', 'their', 'theirs', 'themselves', 'what', 'which', 'who', 'whom', 'this', 'that', \"that'll\", 'these', 'those', 'am', 'is', 'are', 'was', 'were', 'be', 'been', 'being', 'have', 'has', 'had', 'having', 'do', 'does', 'did', 'doing', 'a', 'an', 'the', 'and', 'but', 'if', 'or', 'because', 'as', 'until', 'while', 'of', 'at', 'by', 'for', 'with', 'about', 'against', 'between', 'into', 'through', 'during', 'before', 'after', 'above', 'below', 'to', 'from', 'up', 'down', 'in', 'out', 'on', 'off', 'over', 'under', 'again', 'further', 'then', 'once', 'here', 'there', 'when', 'where', 'why', 'how', 'all', 'any', 'both', 'each', 'few', 'more', 'most', 'other', 'some', 'such', 'no', 'nor', 'not', 'only', 'own', 'same', 'so', 'than', 'too', 'very', 's', 't', 'can', 'will', 'just', 'don', \"don't\", 'should', \"should've\", 'now', 'd', 'll', 'm', 'o', 're', 've', 'y', 'ain', 'aren', \"aren't\", 'couldn', \"couldn't\", 'didn', \"didn't\", 'doesn', \"doesn't\", 'hadn', \"hadn't\", 'hasn', \"hasn't\", 'haven', \"haven't\", 'isn', \"isn't\", 'ma', 'mightn', \"mightn't\", 'mustn', \"mustn't\", 'needn', \"needn't\", 'shan', \"shan't\", 'shouldn', \"shouldn't\", 'wasn', \"wasn't\", 'weren', \"weren't\", 'won', \"won't\", 'wouldn', \"wouldn't\"]\n"
     ]
    }
   ],
   "source": [
    "from nltk.corpus import stopwords\n",
    "words = stopwords.words('english')\n",
    "print(words)"
   ]
  },
  {
   "cell_type": "code",
   "execution_count": 4,
   "metadata": {},
   "outputs": [
    {
     "name": "stdout",
     "output_type": "stream",
     "text": [
      "now... true_propaganda_words.csv\n",
      "['her', 'i', 'with', 'it', 'this', 'not', 'be', 'are', 'she', 'they', 'from', 'has', 'have', 'no', 'by', 'been', 'if', 'you', 'than', 'an', 'all', 'after', 'out', 'now', 'me', 'more', 'at', 'while', 'them', 'or', 'o', 'itself', 'him', 'only', 'both', 'will', 'being', 'can', 'as', 'below', 'up', 'over', 'under', 'because', 'down', 'doing', 'about', 'myself', 'once', 'any', 'but', 'whom', 'which', 'had', 'again', 'most', 'your', 'do', 'just', 'off', 'its', 'why', 'having']\n",
      "now... true_technical_words.csv\n",
      "['both']\n",
      "now... .DS_Store\n",
      "now... fake_all_words.csv\n",
      "['their', 'these', 'during', 'should', 'such', 'himself', 'themselves', 'further', 'nor']\n",
      "now... fake_propaganda_words.csv\n",
      "['their', 'these', 'during', 'should', 'such', 'himself', 'themselves', 'further', 'nor']\n",
      "now... fake_persuasive_words.csv\n",
      "['during', 'should']\n",
      "now... true_all_words.csv\n",
      "['her', 'i', 'with', 'it', 'this', 'not', 'be', 'are', 'she', 'they', 'from', 'has', 'have', 'no', 'by', 'been', 'if', 'you', 'than', 'an', 'all', 'after', 'out', 'now', 'me', 'more', 'at', 'while', 'them', 'or', 'o', 'itself', 'him', 'only', 'both', 'will', 'being', 'can', 'as', 'below', 'up', 'over', 'under', 'because', 'down', 'doing', 'about', 'myself', 'once', 'any', 'but', 'whom', 'which', 'had', 'again', 'most', 'your', 'do', 'just', 'off', 'its', 'why', 'having']\n",
      "now... fake_sentiment_words.csv\n",
      "[]\n",
      "now... true_persuasive_words.csv\n",
      "['while', 'you', 'all', 'now', 'more', 'because', 'just']\n",
      "now... true_sentiment_words.csv\n",
      "['no']\n",
      "now... true_subjectivity_words.csv\n",
      "['will', 'down', 'most', 'just']\n",
      "now... fake_subjectivity_words.csv\n",
      "['should', 'such', 'further']\n",
      "now... fake_technical_words.csv\n",
      "['further']\n"
     ]
    }
   ],
   "source": [
    "import os\n",
    "path = \"./result_fake_true_new/\" \n",
    "files= os.listdir(path) \n",
    "s = []\n",
    "for file in files: \n",
    "     if not os.path.isdir(file):\n",
    "        print(\"now...\",file)\n",
    "        if(file == '.DS_Store'):\n",
    "            continue\n",
    "        f = open(path+\"/\"+file); \n",
    "        iter_f = iter(f); \n",
    "        fw = open(\"./result_fake_true_2910/\"+file,'w+')\n",
    "        reduce_list = []\n",
    "        for line in iter_f: \n",
    "            word = line.split(',')[0]\n",
    "            if word not in words:\n",
    "                fw.write(line)\n",
    "            else:\n",
    "                reduce_list.append(word)\n",
    "        print(reduce_list)\n",
    "        f.close()\n",
    "        fw.close()"
   ]
  },
  {
   "cell_type": "code",
   "execution_count": 5,
   "metadata": {},
   "outputs": [
    {
     "name": "stdout",
     "output_type": "stream",
     "text": [
      "now... true_propaganda_words.csv\n",
      "[]\n",
      "now... fake_propaganda_words.csv\n",
      "[]\n"
     ]
    }
   ],
   "source": []
  },
  {
   "cell_type": "code",
   "execution_count": null,
   "metadata": {},
   "outputs": [],
   "source": []
  }
 ],
 "metadata": {
  "kernelspec": {
   "display_name": "Python 3",
   "language": "python",
   "name": "python3"
  },
  "language_info": {
   "codemirror_mode": {
    "name": "ipython",
    "version": 3
   },
   "file_extension": ".py",
   "mimetype": "text/x-python",
   "name": "python",
   "nbconvert_exporter": "python",
   "pygments_lexer": "ipython3",
   "version": "3.6.8"
  }
 },
 "nbformat": 4,
 "nbformat_minor": 2
}
