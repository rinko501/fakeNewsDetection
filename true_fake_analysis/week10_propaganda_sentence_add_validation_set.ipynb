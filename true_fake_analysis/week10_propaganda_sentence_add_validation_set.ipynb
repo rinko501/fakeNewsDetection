{
 "cells": [
  {
   "cell_type": "markdown",
   "metadata": {},
   "source": [
    "1. load sentence level propaganda dataset, generate train/validation/test set"
   ]
  },
  {
   "cell_type": "code",
   "execution_count": 9,
   "metadata": {},
   "outputs": [],
   "source": [
    "#!/usr/bin/env python3\n",
    "# -*- coding:utf-8 -*-\n",
    "import os\n",
    "import json\n",
    "import re\n",
    "import csv\n",
    "from scipy.stats import chi2_contingency\n",
    "import numpy as np\n",
    "import pandas as pd\n",
    "from sklearn.linear_model import LogisticRegression\n",
    "from sklearn.ensemble import RandomForestClassifier\n",
    "from sklearn.ensemble import GradientBoostingClassifier\n",
    "from sklearn.model_selection import cross_val_score\n",
    "from sklearn.metrics import confusion_matrix,f1_score,roc_auc_score,roc_curve\n",
    "import matplotlib.pyplot as plt\n",
    "import math\n",
    "np.random.seed(1)"
   ]
  },
  {
   "cell_type": "code",
   "execution_count": 10,
   "metadata": {},
   "outputs": [
    {
     "name": "stdout",
     "output_type": "stream",
     "text": [
      "num of sentence is 14263\n",
      "num of pos sentence is 3938\n",
      "num of neg sentence is 3938\n",
      "num of train 6300\n",
      "num of validation 788\n",
      "num of test 788\n"
     ]
    }
   ],
   "source": [
    "def load_propaganda_task2():\n",
    "    '''\n",
    "    output:[[sentence, label]]\n",
    "    '''\n",
    "    global_sentence_label = list()\n",
    "    \n",
    "    tesk_2_3_path = '../other_dict/tasks-2-3/train/'\n",
    "    target_data_2_dirs = os.listdir(tesk_2_3_path)\n",
    "    article_name_set = set()\n",
    "    for file_name in target_data_2_dirs:\n",
    "        article_name_set.add(file_name.split(\".\")[0])\n",
    "    for index in list(article_name_set):\n",
    "        text_name = tesk_2_3_path + index + '.txt'\n",
    "        try:\n",
    "            text = open(text_name, encoding='utf-8', mode='r')\n",
    "        except:\n",
    "            print('No such file or directory: ', text_name)\n",
    "            continue\n",
    "        label_name = tesk_2_3_path + index + '.task2.labels'\n",
    "        try:\n",
    "            label = open(label_name, encoding='utf-8', mode='r')\n",
    "        except:\n",
    "            print('No such file or directory: ', label_name)\n",
    "            continue\n",
    "        text = text.readlines()\n",
    "        sentence_list = []\n",
    "        for sentence in text:\n",
    "            sentence_list.append(sentence)\n",
    "        label = label.readlines()\n",
    "        label_list = []\n",
    "        for line in label:\n",
    "            label_list.append(line)\n",
    "        assert len(label_list)==len(sentence_list),\"text name %s, len of text %d, \\\n",
    "                len of label %d\"%(text_name, len(sentence_list), len(label_list))\n",
    "        for index,sentence in enumerate(sentence_list):\n",
    "            if \"\\tnon-propaganda\" in label_list[index] and sentence.strip()!=\"\":\n",
    "                global_sentence_label.append([sentence,0])\n",
    "            elif \"\\tpropaganda\" in label_list[index] and sentence.strip()!=\"\":\n",
    "                global_sentence_label.append([sentence,1])\n",
    "            else:\n",
    "                continue\n",
    "    return global_sentence_label\n",
    "# load data\n",
    "global_sentence_label = load_propaganda_task2()\n",
    "np.random.shuffle(global_sentence_label)\n",
    "# partition to positive/negative\n",
    "global_sentence_label_positive = [pair for pair in global_sentence_label if pair[1]==1]\n",
    "global_sentence_label_negative = [pair for pair in global_sentence_label if pair[1]==0][:3938]\n",
    "print(\"num of sentence is %d\"%(len(global_sentence_label)))\n",
    "print(\"num of pos sentence is %d\"%(len(global_sentence_label_positive)))\n",
    "print(\"num of neg sentence is %d\"%(len(global_sentence_label_negative)))\n",
    "# shuffle and partition to train/validation/test\n",
    "np.random.shuffle(global_sentence_label_negative)\n",
    "np.random.shuffle(global_sentence_label_positive)\n",
    "\n",
    "train_dataset = global_sentence_label_negative[:int(len(global_sentence_label_negative)*0.8)]\n",
    "train_dataset.extend(global_sentence_label_positive[:int(len(global_sentence_label_positive)*0.8)])\n",
    "\n",
    "validation_dataset = global_sentence_label_negative[int(len(global_sentence_label_negative)*0.8):int(len(global_sentence_label_negative)*0.9)]\n",
    "validation_dataset.extend(global_sentence_label_positive[int(len(global_sentence_label_negative)*0.8):int(len(global_sentence_label_negative)*0.9)])\n",
    "\n",
    "test_dataset = global_sentence_label_negative[int(len(global_sentence_label_negative)*0.9):]\n",
    "test_dataset.extend(global_sentence_label_positive[int(len(global_sentence_label_positive)*0.9):])\n",
    "print(\"num of train %d\"%(len(train_dataset)))\n",
    "print(\"num of validation %d\"%(len(validation_dataset)))\n",
    "print(\"num of test %d\"%(len(test_dataset)))"
   ]
  },
  {
   "cell_type": "code",
   "execution_count": 11,
   "metadata": {},
   "outputs": [],
   "source": [
    "def load_dict(dict_path):\n",
    "    word_set = set()\n",
    "    dict_text = open(dict_path, encoding='utf-8', mode='r')\n",
    "    for line in dict_text:\n",
    "        if line.strip()!=\"\":\n",
    "            word =line.split(\",\")[0]\n",
    "            word_set.add(word)\n",
    "    return word_set\n",
    "def word_num_in_dict(sentence, word_set):\n",
    "    try:\n",
    "        word_list = sentence.strip().split(\" \")\n",
    "    except:\n",
    "        print(sentence)\n",
    "    word_num = 0\n",
    "    for word in word_list:\n",
    "        if word in word_set:\n",
    "            word_num += 1\n",
    "    return word_num\n",
    "def build_feature_matrix_and_label(dataset,dict_names,dict_path):\n",
    "    num_sample = len(dataset)\n",
    "    num_feature = len(dict_names)\n",
    "    feature_matrix = np.zeros((num_sample, num_feature))\n",
    "    label = np.zeros((num_sample,))\n",
    "    for i in range(num_sample):\n",
    "        for j in range(num_feature):\n",
    "            if 'propaganda' in dict_names[j]:\n",
    "                dict_path='./result_fake_true_week5/'\n",
    "            else:\n",
    "                dict_path=\"./result_fake_true_after_reduce_stopwords/\"\n",
    "            feature_matrix[i,j] = word_num_in_dict(dataset[i][0], load_dict(dict_path + dict_names[j] + \"_words.csv\"))\n",
    "        label[i] = dataset[i][1]\n",
    "    return feature_matrix,label\n",
    "def build_feature_matrix_new_one_dict(dataset,dict_name,dict_path):\n",
    "    if 'propaganda' in dict_name:\n",
    "        dict_path='./result_fake_true_week5/'\n",
    "    else:\n",
    "        dict_path=\"./result_fake_true_after_reduce_stopwords/\"\n",
    "    word_list = list(load_dict(dict_path+dict_name+ \"_words.csv\"))\n",
    "    num_sample = len(dataset)\n",
    "    num_feature = len(word_list)\n",
    "    feature_matrix = np.zeros((num_sample, num_feature))\n",
    "    for i in range(len(dataset)):\n",
    "        for j,word in enumerate(word_list):\n",
    "            if word in dataset[i][0]:\n",
    "                feature_matrix[i][j]=1\n",
    "    return(feature_matrix)\n",
    "#dict_names = ['fake_persuasive','fake_sentiment','fake_subjectivity','fake_technical','fake_all',\n",
    "#              'true_persuasive','true_sentiment','true_subjectivity','true_technical','true_all']\n",
    "dict_names = ['fake_persuasive','fake_sentiment','fake_subjectivity','fake_technical','fake_all',\n",
    "              'true_persuasive','true_sentiment','true_subjectivity','true_technical','true_all']\n",
    "dict_path = \"./result_fake_true_after_reduce_stopwords/\"\n",
    "train_feature_matrix, train_label = build_feature_matrix_and_label(train_dataset, dict_names, dict_path)\n",
    "validation_feature_matrix, validation_label = build_feature_matrix_and_label(validation_dataset, dict_names, dict_path)\n",
    "test_feature_matrix, test_label = build_feature_matrix_and_label(test_dataset, dict_names, dict_path)"
   ]
  },
  {
   "cell_type": "code",
   "execution_count": 12,
   "metadata": {},
   "outputs": [],
   "source": [
    "# one-hot feature\n",
    "for dict_name in dict_names:\n",
    "    train_feature_matrix=np.hstack((build_feature_matrix_new_one_dict(train_dataset,dict_names[0],dict_path),train_feature_matrix))\n",
    "    validation_feature_matrix=np.hstack((build_feature_matrix_new_one_dict(validation_dataset,dict_names[0],dict_path),validation_feature_matrix))\n",
    "    test_feature_matrix=np.hstack((build_feature_matrix_new_one_dict(test_dataset,dict_names[0],dict_path),test_feature_matrix))"
   ]
  },
  {
   "cell_type": "code",
   "execution_count": 13,
   "metadata": {},
   "outputs": [
    {
     "name": "stdout",
     "output_type": "stream",
     "text": [
      "shape (6300, 1140) (6300,) (788, 1140) (788,) (788, 1140) (788,)\n"
     ]
    }
   ],
   "source": [
    "print(\"shape\",train_feature_matrix.shape, train_label.shape, test_feature_matrix.shape, test_label.shape,validation_feature_matrix.shape,validation_label.shape)"
   ]
  },
  {
   "cell_type": "markdown",
   "metadata": {},
   "source": [
    "train and evaluate"
   ]
  },
  {
   "cell_type": "code",
   "execution_count": 14,
   "metadata": {},
   "outputs": [
    {
     "name": "stdout",
     "output_type": "stream",
     "text": [
      "The train accuracy score of rf is : 0.596825\n",
      "The test accuracy score of rf is : 0.555838\n",
      "confusion matrix is  [[221 173]\n",
      " [177 217]]\n",
      "[[0.56091371 0.43908629]\n",
      " [0.44923858 0.55076142]]\n"
     ]
    },
    {
     "data": {
      "image/png": "[encoded data removed]",
      "text/plain": [
       "<Figure size 432x288 with 2 Axes>"
      ]
     },
     "metadata": {
      "needs_background": "light"
     },
     "output_type": "display_data"
    }
   ],
   "source": [
    "#gbdt, train and tune parameter\n",
    "gbdt = GradientBoostingClassifier(max_depth=4,\n",
    "                                  random_state=0,\n",
    "                                  min_samples_split=5,\n",
    "                                  learning_rate=0.01,\n",
    "                                  n_estimators=30,\n",
    "                                  subsample=0.8)\n",
    "rf = gbdt.fit(train_feature_matrix, train_label)\n",
    "val_score_rbf = gbdt.score(train_feature_matrix, train_label)\n",
    "print(\"The train accuracy score of rf is : %f\" % val_score_rbf)\n",
    "test_score_rbf = gbdt.score(test_feature_matrix, test_label)\n",
    "print(\"The test accuracy score of rf is : %f\" % test_score_rbf)\n",
    "predict_label = gbdt.predict(test_feature_matrix)\n",
    "# confusion matrix \n",
    "def plot_confusion_matrix(cm, title):\n",
    "    cm = cm.astype('float') / cm.sum(axis=1)[:, np.newaxis]    \n",
    "    plt.imshow(cm)    \n",
    "    print(cm)\n",
    "    plt.title(title)    \n",
    "    plt.colorbar()\n",
    "    plt.ylabel('True label')    \n",
    "    plt.xlabel('Predicted label')\n",
    "cm = confusion_matrix(test_label, predict_label)\n",
    "print(\"confusion matrix is \", cm)\n",
    "plot_confusion_matrix(cm, \"RF Confusion Matrix\")"
   ]
  },
  {
   "cell_type": "code",
   "execution_count": 15,
   "metadata": {},
   "outputs": [
    {
     "name": "stdout",
     "output_type": "stream",
     "text": [
      "(7088, 1140) (7088,)\n"
     ]
    }
   ],
   "source": [
    "#gbdt train again and predict\n",
    "train_feature_matrix = np.vstack((validation_feature_matrix,train_feature_matrix))\n",
    "train_label = np.concatenate((validation_label,train_label))\n",
    "print(train_feature_matrix.shape, train_label.shape)"
   ]
  },
  {
   "cell_type": "code",
   "execution_count": 16,
   "metadata": {},
   "outputs": [
    {
     "name": "stdout",
     "output_type": "stream",
     "text": [
      "The train accuracy score of rf is : 0.589588\n",
      "The test accuracy score of rf is : 0.558376\n",
      "confusion matrix is  [[217 177]\n",
      " [171 223]]\n",
      "[[0.55076142 0.44923858]\n",
      " [0.43401015 0.56598985]]\n"
     ]
    },
    {
     "data": {
      "image/png": "[encoded data removed]",
      "text/plain": [
       "<Figure size 432x288 with 2 Axes>"
      ]
     },
     "metadata": {
      "needs_background": "light"
     },
     "output_type": "display_data"
    }
   ],
   "source": [
    "#gbdt train again and predict\n",
    "gbdt = GradientBoostingClassifier(max_depth=4,\n",
    "                                  random_state=0,\n",
    "                                  min_samples_split=5,\n",
    "                                  learning_rate=0.01,\n",
    "                                  n_estimators=30,\n",
    "                                  subsample=0.8)\n",
    "rf = gbdt.fit(train_feature_matrix, train_label)\n",
    "val_score_rbf = gbdt.score(train_feature_matrix, train_label)\n",
    "print(\"The train accuracy score of rf is : %f\" % val_score_rbf)\n",
    "test_score_rbf = gbdt.score(test_feature_matrix, test_label)\n",
    "print(\"The test accuracy score of rf is : %f\" % test_score_rbf)\n",
    "predict_label = gbdt.predict(test_feature_matrix)\n",
    "# confusion matrix \n",
    "def plot_confusion_matrix(cm, title):\n",
    "    cm = cm.astype('float') / cm.sum(axis=1)[:, np.newaxis]   \n",
    "    plt.imshow(cm)   \n",
    "    print(cm)\n",
    "    plt.title(title)    \n",
    "    plt.colorbar()\n",
    "    plt.ylabel('True label')    \n",
    "    plt.xlabel('Predicted label')\n",
    "cm = confusion_matrix(test_label, predict_label)\n",
    "print(\"confusion matrix is \", cm)\n",
    "plot_confusion_matrix(cm, \"RF Confusion Matrix\")"
   ]
  },
  {
   "cell_type": "code",
   "execution_count": null,
   "metadata": {},
   "outputs": [],
   "source": []
  },
  {
   "cell_type": "code",
   "execution_count": null,
   "metadata": {},
   "outputs": [],
   "source": []
  }
 ],
 "metadata": {
  "kernelspec": {
   "display_name": "Python 3",
   "language": "python",
   "name": "python3"
  },
  "language_info": {
   "codemirror_mode": {
    "name": "ipython",
    "version": 3
   },
   "file_extension": ".py",
   "mimetype": "text/x-python",
   "name": "python",
   "nbconvert_exporter": "python",
   "pygments_lexer": "ipython3",
   "version": "3.6.8"
  }
 },
 "nbformat": 4,
 "nbformat_minor": 2
}
